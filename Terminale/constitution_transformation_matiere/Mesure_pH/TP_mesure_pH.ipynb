{
 "cells": [
  {
   "cell_type": "markdown",
   "metadata": {},
   "source": [
    " # <center>Mesure de pH </center>"
   ]
  },
  {
   "cell_type": "markdown",
   "metadata": {},
   "source": [
    "Exécutez la cellule ci-dessous pour importer les modules utilisés dans ce notebook."
   ]
  },
  {
   "cell_type": "code",
   "execution_count": null,
   "metadata": {},
   "outputs": [],
   "source": [
    "#!pip install matplotlib\n",
    "#!pip install numpy\n",
    "import numpy as np\n",
    "import matplotlib.pyplot as plt"
   ]
  },
  {
   "cell_type": "markdown",
   "metadata": {},
   "source": [
    "**Rappel** : en Python, une liste s'écrit entre crochets [ ]. Chaque élément est réparé par une virgule.\n",
    "```python\n",
    "[1, 2, 3, 4, 5]\n",
    "```\n",
    "\n",
    "> **Travail à faire** : Complétez le code Python ci-dessous avec **la liste** des valeurs du pH et **la liste** des valeurs de $[H_3O^+]$. Indiquez aussi l'incertitude sur la mesure du pH. Cliquez sur `Run`. "
   ]
  },
  {
   "cell_type": "code",
   "execution_count": null,
   "metadata": {},
   "outputs": [],
   "source": [
    "# Points de mesure sous forme de liste\n",
    "oxonium = [1, 1e-1, 1e-2, 1e-3, 1e-4, 1e-5, 1e-6, 1e-7]\n",
    "pH = []\n",
    "\n",
    "# Incertitude sur la mesure du pH\n",
    "U_pH = "
   ]
  },
  {
   "cell_type": "markdown",
   "metadata": {},
   "source": [
    "Exécutez la cellule ci-dessous pour tracer le graphique."
   ]
  },
  {
   "cell_type": "code",
   "execution_count": null,
   "metadata": {},
   "outputs": [],
   "source": [
    "# Trace du modele\n",
    "c0=1 # Concentration standard\n",
    "cth = np.arange(1e-7, 1, 0.0001) \n",
    "pHth = -np.log10(cth/c0)\n",
    "abscisse_th = -np.log10(cth/c0)\n",
    "abscisse_exp = []\n",
    "for i in range(0, len(pH), 1):\n",
    "    abscisse_exp.append(-np.log10(oxonium[i]/c0))\n",
    "\n",
    "plt.xlabel('-log(H3O+/C0)')\n",
    "plt.ylabel('pH de la solution')\n",
    "plt.title('Evolution du pH en fonction de la concentration en ions H3O+')\n",
    "plt.plot(abscisse_th, pHth, color = 'red', label = 'modelisation')\n",
    "plt.scatter(abscisse_exp, pH, color = 'blue', label = 'mesures', marker='+')\n",
    "plt.errorbar(abscisse_exp, pH, yerr = U_pH, fmt = 'none', capsize = 5, ecolor = 'green')\n",
    "plt.legend()\n",
    "plt.show()"
   ]
  },
  {
   "cell_type": "code",
   "execution_count": null,
   "metadata": {},
   "outputs": [],
   "source": []
  }
 ],
 "metadata": {
  "kernelspec": {
   "display_name": "Python 3",
   "language": "python",
   "name": "python3"
  },
  "language_info": {
   "codemirror_mode": {
    "name": "ipython",
    "version": 3
   },
   "file_extension": ".py",
   "mimetype": "text/x-python",
   "name": "python",
   "nbconvert_exporter": "python",
   "pygments_lexer": "ipython3",
   "version": "3.9.2"
  }
 },
 "nbformat": 4,
 "nbformat_minor": 4
}
