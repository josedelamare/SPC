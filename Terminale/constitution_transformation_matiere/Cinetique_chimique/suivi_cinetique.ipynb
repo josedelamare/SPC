{
 "cells": [
  {
   "cell_type": "markdown",
   "metadata": {},
   "source": [
    "# <center> Suivi cinétique d'une réaction lente - réaction du premier ordre </center>"
   ]
  },
  {
   "cell_type": "markdown",
   "metadata": {},
   "source": [
    "Indiquez votre nom et votre prénom dans la cellule ci-dessous :"
   ]
  },
  {
   "cell_type": "code",
   "execution_count": null,
   "metadata": {},
   "outputs": [],
   "source": [
    "# Nom : "
   ]
  },
  {
   "cell_type": "markdown",
   "metadata": {},
   "source": [
    "---"
   ]
  },
  {
   "cell_type": "markdown",
   "metadata": {},
   "source": [
    "> **Travail à faire** : Exécutez la cellule ci-dessous pour importer les modules nécessaires"
   ]
  },
  {
   "cell_type": "code",
   "execution_count": null,
   "metadata": {},
   "outputs": [],
   "source": [
    "import csv\n",
    "import matplotlib.pyplot as plt\n",
    "%matplotlib inline\n",
    "import numpy as np"
   ]
  },
  {
   "cell_type": "markdown",
   "metadata": {},
   "source": [
    "> **Travail à faire** : Déposez les deux fichiers 'etalonnage.txt' et 'suivi.txt' dans l'espace ***Mes Documents*** de l'ENT"
   ]
  },
  {
   "cell_type": "markdown",
   "metadata": {},
   "source": [
    "---\n",
    "## 1. Courbe d'étalonnage \n",
    "\n",
    "Cette partie consiste à vérifier que la loi de Beer-Lambert est bien vérifiée, et de connaître la relation entre l'absorbance et la concentration en diiode."
   ]
  },
  {
   "cell_type": "markdown",
   "metadata": {},
   "source": [
    "> **Travail à faire** : Exécutez la cellule ci-dessous pour importer les données d'étalonnage"
   ]
  },
  {
   "cell_type": "code",
   "execution_count": null,
   "metadata": {},
   "outputs": [],
   "source": [
    "#Création de deux listes contenant la concentration et l'absorbance\n",
    "concentration=[] \n",
    "absorbance=[]\n",
    "with open('etalonnage.txt', newline='') as csvfile:\n",
    "    file = list(csv.DictReader(csvfile, delimiter=\";\"))\n",
    "    for ligne in file:\n",
    "        concentration.append(float(ligne['I2']))\n",
    "        absorbance.append(float(ligne['A']))"
   ]
  },
  {
   "cell_type": "markdown",
   "metadata": {},
   "source": [
    "On va tracer la courbe d'étalonnage donnant **A = f([I2])**\n",
    "\n",
    "> **Travail à faire** : Exécutez la cellule ci-dessous pour tracer le graphique A = f([I2])"
   ]
  },
  {
   "cell_type": "code",
   "execution_count": null,
   "metadata": {},
   "outputs": [],
   "source": [
    "# regression lineaire\n",
    "regression = np.polyfit(concentration, absorbance,1)\n",
    "pente = regression[0]\n",
    "\n",
    "#Affichage du graphe\n",
    "plt.grid(True)\n",
    "plt.xlabel(\"concentration en diiode [I2] (mol/L)\" )\n",
    "plt.ylabel(\"absorbance A\")\n",
    "plt.plot(concentration, absorbance, 'b+',label='points expérimentaux') # affichage des points\n",
    "\n",
    "#Affichage de la régression linéaire\n",
    "abscisse=[]\n",
    "ordonnee=[]\n",
    "for i in range (0, 100, 1):\n",
    "    abscisse.append(i*max(concentration)/1000)\n",
    "    ordonnee.append(pente*i*max(concentration)/1000)    \n",
    "plt.plot(abscisse, ordonnee, 'r-',label='modèle linéaire')\n",
    "\n",
    "plt.legend()\n",
    "plt.show()"
   ]
  },
  {
   "cell_type": "markdown",
   "metadata": {},
   "source": [
    "La loi de Beer-Lambert est-elle vérifiée ?"
   ]
  },
  {
   "cell_type": "code",
   "execution_count": null,
   "metadata": {},
   "outputs": [],
   "source": [
    "##-- Ecrivez votre réponse ci-dessous, sans cliquer sur Run --##\n",
    "#\n",
    "#"
   ]
  },
  {
   "cell_type": "markdown",
   "metadata": {},
   "source": [
    "> **Travail à faire** : Exécutez la cellule ci-dessous pour afficher le coefficient directeur"
   ]
  },
  {
   "cell_type": "code",
   "execution_count": null,
   "metadata": {},
   "outputs": [],
   "source": [
    "# Affichage de la pente\n",
    "print(f'pente --> {pente}')"
   ]
  },
  {
   "cell_type": "markdown",
   "metadata": {},
   "source": [
    "---\n",
    "## 2. Suivi cinétique"
   ]
  },
  {
   "cell_type": "markdown",
   "metadata": {},
   "source": [
    "> **Travail à faire** : Exécutez la cellule ci-dessous pour importer les données du suivi cinétique"
   ]
  },
  {
   "cell_type": "code",
   "execution_count": null,
   "metadata": {},
   "outputs": [],
   "source": [
    "#Création de deux listes contenant le temps et l'absorbance\n",
    "temps=[] \n",
    "absorbance=[]\n",
    "with open('suivi.txt', newline='') as csvfile:\n",
    "    file = list(csv.DictReader(csvfile, delimiter=\";\"))\n",
    "    for ligne in file:\n",
    "        temps.append(float(ligne['t']))\n",
    "        absorbance.append(float(ligne['A']))"
   ]
  },
  {
   "cell_type": "markdown",
   "metadata": {},
   "source": [
    "On va tracer la courbe d'étalonnage donnant **A = f(t)**\n",
    "\n",
    "> **Travail à faire** : En vous aidant du tracé précédent, complétez le code ci-dessous permettant de tracer l'absorbance en fonction du temps (remplacez ... par votre code)"
   ]
  },
  {
   "cell_type": "code",
   "execution_count": null,
   "metadata": {},
   "outputs": [],
   "source": [
    "#Affichage du graphe\n",
    "plt.grid(True)\n",
    "plt.xlabel(\"temps(min)\" )\n",
    "plt.ylabel(\"absorbance A\")\n",
    "plt.plot(..., ..., color = 'red',marker = '+') # affichage des points\n",
    "plt.show()"
   ]
  },
  {
   "cell_type": "markdown",
   "metadata": {},
   "source": [
    "> **Travail à faire** : Ecrivez dans les cellules ci-dessous les réponses aux questions suivantes :"
   ]
  },
  {
   "cell_type": "markdown",
   "metadata": {},
   "source": [
    "1. A partir de quel instant peut-on considérer que la réaction est terminée ?"
   ]
  },
  {
   "cell_type": "code",
   "execution_count": null,
   "metadata": {},
   "outputs": [],
   "source": [
    "##-- Ecrivez votre réponse ci-dessous, sans cliquer sur Run --##\n",
    "#\n",
    "#"
   ]
  },
  {
   "cell_type": "markdown",
   "metadata": {},
   "source": [
    "2. Quelle relation numérique permet de retrouver la concentration à partir de l'absorbance ?"
   ]
  },
  {
   "cell_type": "code",
   "execution_count": null,
   "metadata": {},
   "outputs": [],
   "source": [
    "##-- Ecrivez votre réponse ci-dessous, sans cliquer sur Run --##\n",
    "#\n",
    "#"
   ]
  },
  {
   "cell_type": "markdown",
   "metadata": {},
   "source": [
    "> **Travail à faire** : Complétez le code ci-dessous permettant de calculer la concentration de diiode, puis de tracer le graphe donnant **[I2] = f(t)** (remplacez ... par votre code)"
   ]
  },
  {
   "cell_type": "code",
   "execution_count": null,
   "metadata": {},
   "outputs": [],
   "source": [
    "# Calcul de la concentration\n",
    "c_I2 = ...\n",
    "\n",
    "# Affichage du graphe\n",
    "plt.grid(True)\n",
    "plt.xlabel(\"temps(min)\" )\n",
    "plt.ylabel(\"concentration [I2] (mol/L)\")\n",
    "plt.plot(..., ..., color = 'blue',marker = '+') # affichage des points\n",
    "plt.show()"
   ]
  },
  {
   "cell_type": "markdown",
   "metadata": {},
   "source": [
    "> **Travail à faire** : Ecrivez dans les cellules ci-dessous les réponses aux questions suivantes :"
   ]
  },
  {
   "cell_type": "markdown",
   "metadata": {},
   "source": [
    "3. Estimez le temps de demi-réaction $t_{1/2}$"
   ]
  },
  {
   "cell_type": "code",
   "execution_count": null,
   "metadata": {},
   "outputs": [],
   "source": [
    "##-- Ecrivez votre réponse ci-dessous, sans cliquer sur Run --##\n",
    "#\n",
    "#"
   ]
  },
  {
   "cell_type": "markdown",
   "metadata": {},
   "source": [
    "4. Estimez le rapport $\\dfrac{t_f}{t_{1/2}}$"
   ]
  },
  {
   "cell_type": "code",
   "execution_count": null,
   "metadata": {},
   "outputs": [],
   "source": [
    "##-- Ecrivez votre réponse ci-dessous, sans cliquer sur Run --##\n",
    "#\n",
    "#"
   ]
  },
  {
   "cell_type": "markdown",
   "metadata": {},
   "source": [
    "---\n",
    "## 3. Vitesse de réaction"
   ]
  },
  {
   "cell_type": "markdown",
   "metadata": {},
   "source": [
    "La vitesse d'apparition du diiode $I_2$ est donné par la relation :\n",
    "\n",
    "<center> $v(t_i) =  \\dfrac{[I_2]_{t_{i+1}} - [I_2]_{t_i}}{t_{i+1} - t_i}$"
   ]
  },
  {
   "cell_type": "markdown",
   "metadata": {},
   "source": [
    "> **Travail à faire** : Complétez le code ci-dessous permettant de calculer la vitesse de réaction (remplacez ... par votre code)"
   ]
  },
  {
   "cell_type": "code",
   "execution_count": null,
   "metadata": {},
   "outputs": [],
   "source": [
    "# Calcul de la vitesse de réaction\n",
    "vitesse=[]\n",
    "for i in range (0, len(temps)-1, 1):\n",
    "    v = ...\n",
    "    vitesse.append(v)"
   ]
  },
  {
   "cell_type": "markdown",
   "metadata": {},
   "source": [
    "---\n",
    "## 4. Evolution de la vitesse en fonction de la concentration"
   ]
  },
  {
   "cell_type": "markdown",
   "metadata": {},
   "source": [
    "On va tracer la courbe donnant **v = f([I2])**\n",
    "\n",
    "> **Travail à faire** : Exécutez la cellule ci-dessous pour retirer la dernière valeur"
   ]
  },
  {
   "cell_type": "code",
   "execution_count": null,
   "metadata": {},
   "outputs": [],
   "source": [
    "# on retire la dermière valeur de concentration, afin que les deux listes aient le même nombre de valeur\n",
    "c_I2.resize(len(vitesse), refcheck=False)"
   ]
  },
  {
   "cell_type": "markdown",
   "metadata": {},
   "source": [
    "> **Travail à faire** : En vous aidant du tracé précédent, complétez le code ci-dessous permettant de tracer la vitesse de réaction en fonction de la concentration en diiode [I2] (remplacez ... par votre code)"
   ]
  },
  {
   "cell_type": "code",
   "execution_count": null,
   "metadata": {},
   "outputs": [],
   "source": [
    "#Affichage du graphe\n",
    "plt.grid(True)\n",
    "plt.xlabel(\"concentration (mol/L)\" )\n",
    "plt.ylabel(\"vitesse de réaction (mol/L/min)\")\n",
    "plt.plot(..., ..., 'b+', label='points expérimentaux') \n",
    "\n",
    "\n",
    "# regression lineaire\n",
    "regression = np.polyfit(c_I2, vitesse,1)\n",
    "pente = regression[0]\n",
    "v0=regression[1]\n",
    "\n",
    "\n",
    "#Affichage de la régression linéaire\n",
    "abscisse=[]\n",
    "ordonnee=[]\n",
    "for i in range (0, 1000, 1):\n",
    "    abscisse.append(i*max(c_I2)/1000)\n",
    "    ordonnee.append(v0+pente*i*max(c_I2)/1000)    \n",
    "plt.plot(abscisse, ordonnee, 'r-',label='modèle linéaire')\n",
    "\n",
    "plt.legend()\n",
    "plt.show()"
   ]
  },
  {
   "cell_type": "markdown",
   "metadata": {},
   "source": [
    "> **Travail à faire** : Ecrivez dans les cellules ci-dessous les réponses aux questions suivantes :"
   ]
  },
  {
   "cell_type": "markdown",
   "metadata": {},
   "source": [
    "1. La vitesse est-elle proportionnelle à la concentration ?"
   ]
  },
  {
   "cell_type": "code",
   "execution_count": null,
   "metadata": {},
   "outputs": [],
   "source": [
    "##-- Ecrivez votre réponse ci-dessous, sans cliquer sur Run --##\n",
    "#\n",
    "#"
   ]
  },
  {
   "cell_type": "markdown",
   "metadata": {},
   "source": [
    "---\n",
    "Enregistrez votre Notebook (voir image ci-dessous), puis déposez-le dans le casier de votre professeur.\n",
    "\n",
    "![enregistrer](enregistrer.png)"
   ]
  }
 ],
 "metadata": {
  "kernelspec": {
   "display_name": "Python 3",
   "language": "python",
   "name": "python3"
  },
  "language_info": {
   "codemirror_mode": {
    "name": "ipython",
    "version": 3
   },
   "file_extension": ".py",
   "mimetype": "text/x-python",
   "name": "python",
   "nbconvert_exporter": "python",
   "pygments_lexer": "ipython3",
   "version": "3.8.3"
  }
 },
 "nbformat": 4,
 "nbformat_minor": 4
}
