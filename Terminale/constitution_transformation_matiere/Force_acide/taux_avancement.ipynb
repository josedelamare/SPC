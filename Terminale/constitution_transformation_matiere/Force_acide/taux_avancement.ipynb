{
 "cells": [
  {
   "cell_type": "markdown",
   "metadata": {},
   "source": [
    "# <center> Acides faibles dans l'eau"
   ]
  },
  {
   "cell_type": "markdown",
   "metadata": {},
   "source": [
    "Indiquez votre nom et votre prénom dans la cellule ci-dessous :"
   ]
  },
  {
   "cell_type": "code",
   "execution_count": null,
   "metadata": {},
   "outputs": [],
   "source": [
    "# Nom : "
   ]
  },
  {
   "cell_type": "markdown",
   "metadata": {},
   "source": [
    "---\n",
    ">**Travail à faire** : Exécutez la cellule ci-dessous pour importer les modules nécessaires"
   ]
  },
  {
   "cell_type": "code",
   "execution_count": null,
   "metadata": {},
   "outputs": [],
   "source": [
    "from solution import *\n",
    "from math import sqrt\n",
    "from math import log10\n",
    "from matplotlib import pyplot\n",
    "import numpy as np"
   ]
  },
  {
   "cell_type": "markdown",
   "metadata": {},
   "source": [
    "---\n",
    "## 1. Données propres à l'expérience\n",
    "Complétez les lignes ci-dessous en indiquant les valeurs de pKA et de Ci, et l'instruction permettant de calculer KA"
   ]
  },
  {
   "cell_type": "code",
   "execution_count": null,
   "metadata": {},
   "outputs": [],
   "source": [
    "# valeur du pKA\n",
    "pKA = \n",
    "\n",
    "# calcul du KA\n",
    "KA = \n",
    "\n",
    "# valeur de la concentration en soluté apporté en mol/L\n",
    "Ci = "
   ]
  },
  {
   "cell_type": "markdown",
   "metadata": {},
   "source": [
    "> **Travail à faire** : Exécutez la cellule ci-dessous pour vérifier votre travail. En cas d'erreur, lisez **attentivement** les deux dernières lignes, corrigez la cellule précédente, puis exécutez à nouveau les cellules modifiées."
   ]
  },
  {
   "cell_type": "code",
   "execution_count": null,
   "metadata": {},
   "outputs": [],
   "source": [
    "correction_KA(KA, pKA)"
   ]
  },
  {
   "cell_type": "markdown",
   "metadata": {},
   "source": [
    "---\n",
    "## 2. Résolution d'une équation du second degré.\n",
    "\n",
    "La résolution d'une équation du type $ax^2 + bx + c = 0$ passe par le calcul du déterminant : $\\Delta = b^2 - 4ac$. L'équation admet alors 2 solutions : \n",
    "- $x_1 = \\dfrac{-b - \\sqrt{\\Delta}}{2a}$\n",
    "- $x_2 = \\dfrac{-b + \\sqrt{\\Delta}}{2a}$\n"
   ]
  },
  {
   "cell_type": "markdown",
   "metadata": {},
   "source": [
    "\n",
    "La fonction *resolution()* ci-dessous permet de résoudre une équation du second degré. Elle renvoie la racine $x_2$ de cette équation.\n",
    "\n",
    "> **Travail à faire** : Exécutez la cellule ci-dessous pour voir un exemple d'exécution"
   ]
  },
  {
   "cell_type": "code",
   "execution_count": null,
   "metadata": {},
   "outputs": [],
   "source": [
    "exo_resolution.example(2)"
   ]
  },
  {
   "cell_type": "markdown",
   "metadata": {},
   "source": [
    "> **Travail à faire** : Complétez les deux lignes ci-dessous permettant de calculer le déterminant $\\Delta$ et la racine $x_2$.\n",
    "\n",
    "*Aide Python* : La racine carré d'un nombre *x* s'écrit \n",
    "```python\n",
    "sqrt(x)\n",
    "```"
   ]
  },
  {
   "cell_type": "code",
   "execution_count": null,
   "metadata": {},
   "outputs": [],
   "source": [
    "def resolution(a, b, c):\n",
    "    \"\"\"fonction qui résoud une équation de la forme ax² + bx + c = 0\"\"\"\n",
    "\n",
    "    # calcul du discriminant\n",
    "    \n",
    "    # solution positive\n",
    "\n",
    "    # fin\n",
    "    return solution"
   ]
  },
  {
   "cell_type": "markdown",
   "metadata": {},
   "source": [
    "> **Travail à faire** : Vérifiez votre code en exécutant la cellule ci-dessous. \n",
    "\n",
    "Si une case rouge apparaît, c'est que le code entré à la cellule précédente est faux. Corrigez votre travail, exécutez la cellule précédente puis à nouveau la prochaine."
   ]
  },
  {
   "cell_type": "code",
   "execution_count": null,
   "metadata": {},
   "outputs": [],
   "source": [
    "exo_resolution.correction(resolution)"
   ]
  },
  {
   "cell_type": "markdown",
   "metadata": {},
   "source": [
    "---\n",
    "## 3. Détermination du taux d'avancement d'une réaction entre un acide faible et l'eau"
   ]
  },
  {
   "cell_type": "markdown",
   "metadata": {},
   "source": [
    "Le taux d'avancement $\\tau$ d'une réaction entre un acide faible et l'eau est la solution positive de l'équation : $C_i.\\tau^2 + K_A.\\tau - K_A = 0$"
   ]
  },
  {
   "cell_type": "markdown",
   "metadata": {},
   "source": [
    "> **Travail à faire** : Complétez la ligne ci-dessous permettant d'exécuter la fonction *resolution()* en indiquant **les paramètres entre les parenthèses**. (Remplacez les ... par votre code)"
   ]
  },
  {
   "cell_type": "code",
   "execution_count": null,
   "metadata": {},
   "outputs": [],
   "source": [
    "# le taux d'avancement\n",
    "tau = ..."
   ]
  },
  {
   "cell_type": "markdown",
   "metadata": {},
   "source": [
    "> **Travail à faire** : Complétez la ligne ci-dessous permettant de calculer la valeur du pH de la solution. (Remplacez les ... par votre code)"
   ]
  },
  {
   "cell_type": "code",
   "execution_count": null,
   "metadata": {},
   "outputs": [],
   "source": [
    "# le pH de la solution\n",
    "pH = ...\n",
    "print(f\"le pH de la solution est : {pH}\")"
   ]
  },
  {
   "cell_type": "markdown",
   "metadata": {},
   "source": [
    "La fonction *trace()* ci-dessous permet de de tracer le diagramme de distribution, c'est à dire le pourcentage $p_A$ de l'espèce acide et le pourcentage $p_B$ de l'espèce basique en fonction du pH.\n",
    "\n",
    "> **Travail à faire** : Complétez les deux lignes ci-dessous permettant de calculer les pourcentages $p_A$ et $p_B$ (Remplacez les ... par votre code)"
   ]
  },
  {
   "cell_type": "code",
   "execution_count": null,
   "metadata": {},
   "outputs": [],
   "source": [
    "def trace(pKA, tau, Ci):\n",
    "    \"\"\"fonction qui trace le diagramme de prédominance d'un couple acide/base\"\"\"\n",
    "    # le pH est compris entre 0 et 14\n",
    "    pH = np.linspace(0, 14, 100)\n",
    "\n",
    "    # calcul de la proportion d'acide en fonction du pH\n",
    "    pA = ...\n",
    "\n",
    "    # calcul de la proportion de base en fonction du pH\n",
    "    pB = ...\n",
    "\n",
    "    pyplot.plot(pH, pA, label = 'Acide')\n",
    "    pyplot.plot(pH, pB, label = 'Base')\n",
    "    pyplot.xlabel(\" pH \")\n",
    "    pyplot.ylabel(\" Pourcentage \")\n",
    "    pyplot.legend(loc='center right')\n",
    "    pyplot.title('Diagramme de distribution')\n",
    "\n",
    "    verticale = np.linspace(-10, 110, 100)\n",
    "    pH_solution = np.linspace(-log10(Ci*tau), -log10(Ci*tau), 100)\n",
    "    pyplot.plot(pH_solution, verticale)\n",
    "    pyplot.annotate(\"pH solution\",(-log10(Ci*tau)-1, -10))\n",
    "    pyplot.show()\n"
   ]
  },
  {
   "cell_type": "markdown",
   "metadata": {},
   "source": [
    "> **Travail à faire** : Exécuter la ligne ci-dessous pour tracer le diagramme de distribution"
   ]
  },
  {
   "cell_type": "code",
   "execution_count": null,
   "metadata": {},
   "outputs": [],
   "source": [
    "# tracé du diagramme de distribution\n",
    "trace(pKA, tau, Ci)"
   ]
  },
  {
   "cell_type": "markdown",
   "metadata": {},
   "source": [
    "Interprétez ce graphique pour déterminer quelle est l'espèce majoritaire dans la solution"
   ]
  },
  {
   "cell_type": "code",
   "execution_count": null,
   "metadata": {},
   "outputs": [],
   "source": [
    "##--Ecrivez vos réponses ici, sans exécuter la cellule--##\n",
    "#"
   ]
  },
  {
   "cell_type": "markdown",
   "metadata": {},
   "source": [
    "---\n",
    "## 4. Evolution de l'espèce prédominante en fonction de la concentration initiale"
   ]
  },
  {
   "cell_type": "markdown",
   "metadata": {},
   "source": [
    "Modifiez les cellules ci-dessous afin de tenir compte des valeurs de concentration en soluté apporté indiquées dans le tableau ci-dessous :\n",
    "\n",
    "|$C_i\\ (mol.L^{-1})$| \n",
    "|---|\n",
    "|$1,0\\times 10^{-4}$|  \n",
    "|$1,0\\times 10^{-5}$|  \n",
    "|$1,0\\times 10^{-6}$|  \n",
    "|$1,0\\times 10^{-7}$|     \n",
    "    "
   ]
  },
  {
   "cell_type": "code",
   "execution_count": null,
   "metadata": {},
   "outputs": [],
   "source": [
    "# valeur de la concentration en soluté apporté en mol/L\n",
    "Ci = ...\n",
    "\n",
    "# le taux d'avancement\n",
    "tau = resolution(Ci, KA, -KA)\n",
    "\n",
    "# tracé du diagramme de distribution\n",
    "trace(pKA, tau, Ci)"
   ]
  },
  {
   "cell_type": "markdown",
   "metadata": {},
   "source": [
    "Comment évolue l'espèce majoritaire lorsque la concentration en soluté apporté diminue ?"
   ]
  },
  {
   "cell_type": "code",
   "execution_count": null,
   "metadata": {},
   "outputs": [],
   "source": [
    "##--Ecrivez vos réponses ici, sans exécuter la cellule--##\n",
    "#"
   ]
  },
  {
   "cell_type": "markdown",
   "metadata": {},
   "source": [
    "Pour quelle valeur de $C_i$ n'y a-t-il aucune espèce majoritaire ? On procèdera par essais successifs afin de trouver la bonne valeur."
   ]
  },
  {
   "cell_type": "code",
   "execution_count": null,
   "metadata": {},
   "outputs": [],
   "source": [
    "##--Ecrivez vos réponses ici, sans exécuter la cellule--##\n",
    "#"
   ]
  },
  {
   "cell_type": "markdown",
   "metadata": {},
   "source": [
    "---\n",
    "Enregistrez votre Notebook (voir image ci-dessous), puis déposez-le dans le casier de votre professeur.\n",
    "\n",
    "![enregistrer](enregistrer.png)"
   ]
  }
 ],
 "metadata": {
  "kernelspec": {
   "display_name": "Python 3",
   "language": "python",
   "name": "python3"
  },
  "language_info": {
   "codemirror_mode": {
    "name": "ipython",
    "version": 3
   },
   "file_extension": ".py",
   "mimetype": "text/x-python",
   "name": "python",
   "nbconvert_exporter": "python",
   "pygments_lexer": "ipython3",
   "version": "3.8.3"
  }
 },
 "nbformat": 4,
 "nbformat_minor": 4
}
