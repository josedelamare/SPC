{
 "cells": [
  {
   "cell_type": "markdown",
   "metadata": {},
   "source": [
    "# <center> Evolution des quantités de matière lors d'un titrage </center>"
   ]
  },
  {
   "cell_type": "markdown",
   "metadata": {},
   "source": [
    "L'étude de l'évolution des quantités de matière des réactifs impliqués dans la transformation chimique support d'un dosage par titrage peut se faire à l'aide d'une simulation numérique.\n",
    "\n",
    "**Comment modifier le programme d'un titrage acide-base de l'acide méthanoïque pour visualiser l'évolution des quantités de matière ?**"
   ]
  },
  {
   "cell_type": "code",
   "execution_count": null,
   "metadata": {},
   "outputs": [],
   "source": [
    "from solution import *\n",
    "from matplotlib import pyplot as plt"
   ]
  },
  {
   "cell_type": "markdown",
   "metadata": {},
   "source": [
    "---\n",
    "## Etude du titrage\n",
    "\n",
    "Le schéma du montage du titrage pH-métrique est le suivant :\n",
    "    \n",
    "![schéma montage](montage.png)"
   ]
  },
  {
   "cell_type": "markdown",
   "metadata": {},
   "source": [
    "1. Ecrivez sur votre brouillon l'équation de la réaction support du titrage\n",
    "2. Quelle est la quantité de matière d'acide méthanoïque qu'il faut titrer ?\n",
    "3. Déduisez-en le volume d'hydroxyde de sodium qu'il faut verser à l'équivalence. Indiquez votre réponse dans le cadre ci-dessous, pour qu'elle soit stockée dans la variable VE.\n",
    "\n",
    "**Portez une attention particulière aux chiffres significatifs**"
   ]
  },
  {
   "cell_type": "code",
   "execution_count": null,
   "metadata": {},
   "outputs": [],
   "source": [
    "#-- Indiquez ici le volume VE --#\n",
    "VE = "
   ]
  },
  {
   "cell_type": "markdown",
   "metadata": {},
   "source": [
    "> **Travail à faire** : Afin de vérifier votre travail, exécutez la ligne de code ci-dessous."
   ]
  },
  {
   "cell_type": "code",
   "execution_count": null,
   "metadata": {},
   "outputs": [],
   "source": [
    "correction_volume_equivalent(VE)"
   ]
  },
  {
   "cell_type": "markdown",
   "metadata": {},
   "source": [
    "---\n",
    "## L'instruction *append()*"
   ]
  },
  {
   "cell_type": "markdown",
   "metadata": {},
   "source": [
    "Dans une liste en Python, les éléments sont placés entre des chochets [ ], et chaque élément est séparé par une virgule."
   ]
  },
  {
   "cell_type": "code",
   "execution_count": null,
   "metadata": {},
   "outputs": [],
   "source": [
    "ma_liste = [1, 2, 3, 4]\n",
    "\n",
    "print(ma_liste)"
   ]
  },
  {
   "cell_type": "markdown",
   "metadata": {},
   "source": [
    "Pour ajouter l'élément **x** à la fin de cette liste, on utilise l'instruction **ma_liste.append(x)**."
   ]
  },
  {
   "cell_type": "code",
   "execution_count": null,
   "metadata": {},
   "outputs": [],
   "source": [
    "ma_liste.append(5)\n",
    "\n",
    "print(ma_liste)"
   ]
  },
  {
   "cell_type": "markdown",
   "metadata": {},
   "source": [
    "> **Travail à faire** : Ajoutez successivement les valeurs 6, 7, 8, 9 et 10 à la variable *ma_liste*"
   ]
  },
  {
   "cell_type": "code",
   "execution_count": null,
   "metadata": {},
   "outputs": [],
   "source": [
    "#-- Indiquez votre code ici, puis cliquez sur Run --#\n"
   ]
  },
  {
   "cell_type": "markdown",
   "metadata": {},
   "source": [
    "> **Travail à faire** : Vérifiez votre travail en exécutant la cellule ci-dessous"
   ]
  },
  {
   "cell_type": "code",
   "execution_count": null,
   "metadata": {},
   "outputs": [],
   "source": [
    "correction_append(ma_liste)"
   ]
  },
  {
   "cell_type": "markdown",
   "metadata": {},
   "source": [
    "---\n",
    "## Paramétrage de la simulation\n",
    "\n",
    "> **Travail à faire** : Complétez les trois premières lignes de la cellule suivante à partir du schéma du titrage."
   ]
  },
  {
   "cell_type": "code",
   "execution_count": null,
   "metadata": {},
   "outputs": [],
   "source": [
    "# concentration en acide AH titré (en mol/L)\n",
    "Ca = \n",
    "\n",
    "# volume d'acide AH titré (en mL)\n",
    "Va = \n",
    "\n",
    "# concentration de HO- titrante (en mol/L)\n",
    "Cb = "
   ]
  },
  {
   "cell_type": "markdown",
   "metadata": {},
   "source": [
    "> **Travail à faire** : Indiquez dans la cellule ci-dessous la formule permettant de calculer le volume équivalent VE"
   ]
  },
  {
   "cell_type": "code",
   "execution_count": null,
   "metadata": {},
   "outputs": [],
   "source": [
    "#-- Indiquez votre code ici, puis cliquez sur Run --#\n",
    "VE = "
   ]
  },
  {
   "cell_type": "markdown",
   "metadata": {},
   "source": [
    "---\n",
    "## Etude avant l'équivalence et après l'équivalence\n",
    "\n"
   ]
  },
  {
   "cell_type": "markdown",
   "metadata": {},
   "source": [
    "On souhaite calculer la quantité de matière d'acide AH, de base A- et d'ions hydroxyde HO- présents dans le bécher lorsqu'on a versé une quantité *vb* de soude. **On se place AVANT l'équivalence**.\n",
    "\n",
    "> **Travail à faire** : Ecrivez sur votre brouillon les réponses aux questions suivantes (on pourra s'aider éventuellement d'un tableau d'avancement :\n",
    "\n",
    "1. Exprimez en fonction de $C_B$ et $V_B$, la quantité de matière $n(HO^-)$ versée dans l'état initial.\n",
    "2. Quel est le réactif limitant de la réaction de titrage ?\n",
    "3. Que vaut la quantité de matière en ions hydroxyde $HO^-$ dans l'état final ?\n",
    "4. Exprimez en fonction de $C_A, V_A, C_B$ et $V_B$, la quantité de matière $n(AH)$ restant dans l'état final\n",
    "5. Exprimez en fonction de $C_A, V_A, C_B$ et $V_B$, la quantité de matière $n(A^-)$ formé dans l'état final."
   ]
  },
  {
   "cell_type": "markdown",
   "metadata": {},
   "source": [
    "On souhaite calculer ces différentes quantités de matière en utilisant une fonction Pyhton.\n",
    "\n",
    "> **Travail à faire** : Exécutez la cellule ci-dessous pour voir un exemple du résultat attendu"
   ]
  },
  {
   "cell_type": "code",
   "execution_count": null,
   "metadata": {},
   "outputs": [],
   "source": [
    "exo_avant.example(2)"
   ]
  },
  {
   "cell_type": "markdown",
   "metadata": {},
   "source": [
    "> Complétez la fonction ***avant()*** prenant *ca, va, vb* et *cb* en arguments."
   ]
  },
  {
   "cell_type": "code",
   "execution_count": null,
   "metadata": {},
   "outputs": [],
   "source": [
    "def avant(ca, va, cb, vb): \n",
    "    n_OH = \n",
    "    n_AH = \n",
    "    n_A = \n",
    "    return (n_AH, n_A, n_OH)    "
   ]
  },
  {
   "cell_type": "markdown",
   "metadata": {},
   "source": [
    "> **Travail à faire** : Exécutez la cellule ci-dessous pour corriger votre travail.\n",
    "\n",
    "Si une case rouge apparaît, c'est que le code entré à la cellule précédente est faux. Corrigez votre travail, exécutez la cellule précédente puis à nouveau la prochaine."
   ]
  },
  {
   "cell_type": "code",
   "execution_count": null,
   "metadata": {},
   "outputs": [],
   "source": [
    "exo_avant.correction(avant)"
   ]
  },
  {
   "cell_type": "markdown",
   "metadata": {},
   "source": [
    "On souhaite calculer la quantité de matière d'acide AH, de base A- et d'ions hydroxyde HO- présents dans le bécher lorsqu'on a versé une quantité vb de soude. **On se place APRES l'équivalence.**\n",
    "\n",
    "> **Travail à faire** : Ecrivez sur votre brouillon les réponses aux questions suivantes (on pourra s'aider éventuellement d'un tableau d'avancement :\n",
    "\n",
    "1. Exprimez en fonction de $C_B$ et $V_B$, la quantité de matière $n(HO^-)$ versée dans l'état initial.\n",
    "2. Quel est le réactif limitant de la réaction de titrage ?\n",
    "3. Que vaut la quantité de matière en ions hydroxyde $HO^-$ dans l'état final ?\n",
    "4. Exprimez en fonction de $C_A, V_A, C_B$ et $V_B$, la quantité de matière $n(AH)$ restant dans l'état final\n",
    "5. Exprimez en fonction de $C_A, V_A, C_B$ et $V_B$, la quantité de matière $n(A^-)$ formé dans l'état final."
   ]
  },
  {
   "cell_type": "markdown",
   "metadata": {},
   "source": [
    "On souhaite calculer ces différentes quantités de matière en utilisant une fonction Pyhton\n",
    "\n",
    "> **Travail à faire** : Exécutez la cellule ci-dessous pour voir un exemple du résultat attendu"
   ]
  },
  {
   "cell_type": "code",
   "execution_count": null,
   "metadata": {},
   "outputs": [],
   "source": [
    "exo_apres.example(2)"
   ]
  },
  {
   "cell_type": "markdown",
   "metadata": {},
   "source": [
    "> Complétez la fonction ***apres()*** prenant *ca, va, vb* et *cb* en arguments."
   ]
  },
  {
   "cell_type": "code",
   "execution_count": null,
   "metadata": {},
   "outputs": [],
   "source": [
    "def apres(ca, va, cb, vb): \n",
    "    n_OH = \n",
    "    n_AH = \n",
    "    n_A = \n",
    "    return (n_AH, n_A, n_OH)    "
   ]
  },
  {
   "cell_type": "markdown",
   "metadata": {},
   "source": [
    "> **Travail à faire** : Exécutez la cellule ci-dessous pour corriger votre travail.\n",
    "\n",
    "Si une case rouge apparaît, c'est que le code entré à la cellule précédente est faux. Corrigez votre travail, exécutez la cellule précédente puis à nouveau la prochaine."
   ]
  },
  {
   "cell_type": "code",
   "execution_count": null,
   "metadata": {},
   "outputs": [],
   "source": [
    "exo_apres.correction(apres)"
   ]
  },
  {
   "cell_type": "markdown",
   "metadata": {},
   "source": [
    "---\n",
    "## Calcul des quantités de matière "
   ]
  },
  {
   "cell_type": "markdown",
   "metadata": {},
   "source": [
    "> **Travail à faire** : Complétez le code ci-dessous (remplacez les ..... par votre code)"
   ]
  },
  {
   "cell_type": "code",
   "execution_count": null,
   "metadata": {},
   "outputs": [],
   "source": [
    "# volume de HO- versé\n",
    "Vb = [i/4 for i in range(0, 100)]\n",
    "# initialisation\n",
    "naf = []\n",
    "nab = []\n",
    "nbf = []\n",
    "\n",
    "def calcul(VE, Ca, Va, Cb, Vb, nbf, naf, nab):\n",
    "    for volume in Vb:\n",
    "        if volume < VE:\n",
    "            n_AH, n_A, n_OH = avant(Ca, Va, Cb, volume)\n",
    "            nbf.append(n_OH)\n",
    "            naf.append(....)\n",
    "            nab.append(....)\n",
    "        else:\n",
    "            n_AH, n_A, n_OH = ....\n",
    "            .....\n",
    "            .....\n",
    "            \n",
    "    return (nbf, naf, nab)"
   ]
  },
  {
   "cell_type": "markdown",
   "metadata": {},
   "source": [
    "> **Travail à faire** : Exécutez la cellule ci-dessous pour corriger votre travail.\n",
    "\n",
    "Si une case rouge apparaît, c'est que le code entré à la cellule précédente est faux. Corrigez votre travail, exécutez la cellule précédente puis à nouveau la prochaine."
   ]
  },
  {
   "cell_type": "code",
   "execution_count": null,
   "metadata": {},
   "outputs": [],
   "source": [
    "exo_calcul.correction(calcul)"
   ]
  },
  {
   "cell_type": "markdown",
   "metadata": {},
   "source": [
    "---\n",
    "## Tracé de la courbe"
   ]
  },
  {
   "cell_type": "markdown",
   "metadata": {},
   "source": [
    "> **Travail à faire** : Ecrivez sur votre brouillon les réponses aux questions suivantes :\n",
    "\n",
    "1. Comment évolue la quantité de matière en ions hydroxyde $HO^-$ au cours du titrage ?\n",
    "2. Comment évolue la quantité de matière en ions méthanoate $A^-$ au cours du titrage ?\n",
    "3. Comment évolue la quantité de matière en acide méthanoïque $AH$ au cours du titrage ?"
   ]
  },
  {
   "cell_type": "markdown",
   "metadata": {},
   "source": [
    "> **Travail à faire** : Exécutez le code ci-dessous pour tracer l'évolution des différentes quantités de matière au cours du titrage et vérifiez vos réponses précédents."
   ]
  },
  {
   "cell_type": "code",
   "execution_count": null,
   "metadata": {},
   "outputs": [],
   "source": [
    "nbf, naf, neb = calcul(VE, Ca, Va, Cb, Vb, nbf, naf, nab)\n",
    "plt.title(\"Evolution des quantités de matière au cours du titrage\")\n",
    "plt.xlabel(\"Volume de HO- versé Vb(mL)\")\n",
    "plt.ylabel(\"Quantité de matière en mol\")\n",
    "plt.grid(True)\n",
    "plt.plot(Vb,naf,c='red',marker=\"+\", label=\"n(AH) (mmol)\")\n",
    "plt.plot(Vb,nab,c='blue',marker=\"+\", label=\"n(A-) (mmol)\")\n",
    "plt.plot(Vb,nbf,c='green',marker=\"+\",label=\"n(HO-) (mmol)\")\n",
    "plt.legend()\n",
    "plt.show()"
   ]
  },
  {
   "cell_type": "markdown",
   "metadata": {},
   "source": [
    "---\n",
    "## Modification des paramètres expérimentaux\n",
    "\n",
    "On réalise maintenant le titrage de 10,0 mL d'acide méthanoïque par de l'hydroxyde de sodium de concentration 0,1 mol/L. Le volume équivalent trouvé est de 10,0 mL. On cherche à déterminer la concentration Ca en acide méthanoïque.\n",
    "\n",
    "> **Travail à faire** : modifiez la valeur de Ca de la simulation ci-dessous jusqu'à obtenir un volume équivalent de 10,0 mL. "
   ]
  },
  {
   "cell_type": "code",
   "execution_count": null,
   "metadata": {},
   "outputs": [],
   "source": [
    "# concentration en acide AH titré (en mol/L)\n",
    "Ca = ....\n",
    "\n",
    "\n",
    "\n",
    "# volume d'acide AH titré (en mL)\n",
    "Va = 10\n",
    "\n",
    "# concentration de HO- titrante (en mol/L)\n",
    "Cb = 0.1\n",
    "\n",
    "# volume de HO- versé\n",
    "Vb = [i/4 for i in range(0, 100)]\n",
    "# initialisation\n",
    "naf = []\n",
    "nab = []\n",
    "nbf = []\n",
    "\n",
    "nbf, naf, neb = calcul(VE, Ca, Va, Cb, Vb, nbf, naf, nab)\n",
    "\n",
    "plt.title(\"Evolution des quantités de matière au cours du titrage\")\n",
    "plt.xlabel(\"Volume de HO- versé Vb(mL)\")\n",
    "plt.ylabel(\"Quantité de matière en mol\")\n",
    "plt.grid(True)\n",
    "plt.plot(Vb,naf,c='red',marker=\"+\", label=\"n(AH) (mmol)\")\n",
    "plt.plot(Vb,nab,c='blue',marker=\"+\", label=\"n(A-) (mmol)\")\n",
    "plt.plot(Vb,nbf,c='green',marker=\"+\",label=\"n(HO-) (mmol)\")\n",
    "plt.legend()\n",
    "plt.show()"
   ]
  },
  {
   "cell_type": "code",
   "execution_count": null,
   "metadata": {},
   "outputs": [],
   "source": []
  },
  {
   "cell_type": "code",
   "execution_count": null,
   "metadata": {},
   "outputs": [],
   "source": [
    "naf"
   ]
  }
 ],
 "metadata": {
  "kernelspec": {
   "display_name": "Python 3",
   "language": "python",
   "name": "python3"
  },
  "language_info": {
   "codemirror_mode": {
    "name": "ipython",
    "version": 3
   },
   "file_extension": ".py",
   "mimetype": "text/x-python",
   "name": "python",
   "nbconvert_exporter": "python",
   "pygments_lexer": "ipython3",
   "version": "3.8.3"
  }
 },
 "nbformat": 4,
 "nbformat_minor": 4
}
